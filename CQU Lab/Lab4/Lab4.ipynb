{
  "cells": [
    {
      "cell_type": "markdown",
      "metadata": {
        "id": "0E7sRPX4eolC"
      },
      "source": [
        "# 机器学习第四次实验"
      ]
    },
    {
      "cell_type": "markdown",
      "metadata": {
        "id": "PunDfaEfwaP5"
      },
      "source": [
        "## 前置准备\n",
        "\n",
        "本次实验需要用到高性能GPU故选择使用**Google Colab**运行代码内容，需要进行一些简单配置。"
      ]
    },
    {
      "cell_type": "code",
      "execution_count": null,
      "metadata": {
        "colab": {
          "base_uri": "https://localhost:8080/"
        },
        "id": "2Oy_I6Kqw9q2",
        "outputId": "793eaf48-7498-477f-fc45-a57ce4394f4d"
      },
      "outputs": [
        {
          "name": "stdout",
          "output_type": "stream",
          "text": [
            "Mounted at /content/drive\n"
          ]
        }
      ],
      "source": [
        "from google.colab import drive\n",
        "drive.mount('/content/drive')"
      ]
    },
    {
      "cell_type": "markdown",
      "metadata": {
        "id": "k-OIwe0BeolF"
      },
      "source": [
        "## 任务一：鸢尾花分类"
      ]
    },
    {
      "cell_type": "markdown",
      "metadata": {
        "id": "BrEAcHmkeolF"
      },
      "source": [
        ">note：我们选择使用决策树（随机森林）算法与支持向量机（SVM）实现，多种机器学习方法进行对比实验。"
      ]
    },
    {
      "cell_type": "code",
      "execution_count": null,
      "metadata": {
        "colab": {
          "base_uri": "https://localhost:8080/"
        },
        "id": "85ffx-Y5EwSo",
        "outputId": "450960b6-71cc-4df8-a944-6556b12d638e"
      },
      "outputs": [
        {
          "name": "stdout",
          "output_type": "stream",
          "text": [
            "   sepal length (cm)  sepal width (cm)  petal length (cm)  petal width (cm)  target\n",
            "0                5.1               3.5                1.4               0.2       0\n",
            "1                4.9               3.0                1.4               0.2       0\n",
            "2                4.7               3.2                1.3               0.2       0\n",
            "3                4.6               3.1                1.5               0.2       0\n",
            "4                5.0               3.6                1.4               0.2       0\n"
          ]
        }
      ],
      "source": [
        "csv_path = '/content/drive/My Drive/Colab Notebooks/data/iris.csv'\n",
        "import pandas as pd\n",
        "from sklearn.model_selection import train_test_split\n",
        "from sklearn.metrics import accuracy_score\n",
        "from sklearn.tree import DecisionTreeClassifier\n",
        "iris_df = pd.read_csv(csv_path)\n",
        "print(iris_df.head())"
      ]
    },
    {
      "cell_type": "code",
      "execution_count": null,
      "metadata": {
        "colab": {
          "base_uri": "https://localhost:8080/"
        },
        "id": "Dmt_m5ZReolI",
        "outputId": "f73503e4-2885-4c36-f809-5ce5ab9e6974"
      },
      "outputs": [
        {
          "name": "stdout",
          "output_type": "stream",
          "text": [
            "1.0\n"
          ]
        }
      ],
      "source": [
        "X, y = iris_df.iloc[:, :-1].values, iris_df.iloc[:, -1].values\n",
        "X_train, X_test, y_train, y_test = train_test_split(X, y, test_size=0.2, random_state=42)\n",
        "\n",
        "tree = DecisionTreeClassifier()\n",
        "tree.fit(X_train, y_train)\n",
        "y_pred = tree.predict(X_test)\n",
        "print(accuracy_score(y_test, y_pred))"
      ]
    },
    {
      "cell_type": "code",
      "execution_count": null,
      "metadata": {
        "colab": {
          "base_uri": "https://localhost:8080/"
        },
        "id": "hB2rPVi-eolJ",
        "outputId": "0328ffc0-a9c0-4514-9388-fd3144e3af9d"
      },
      "outputs": [
        {
          "name": "stdout",
          "output_type": "stream",
          "text": [
            "1.0\n"
          ]
        }
      ],
      "source": [
        "# 下面使用随机森林算法对鸢尾花数据集进行分类\n",
        "from sklearn.ensemble import RandomForestClassifier\n",
        "\n",
        "forest = RandomForestClassifier()\n",
        "forest.fit(X_train, y_train)\n",
        "y_pred = forest.predict(X_test)\n",
        "print(accuracy_score(y_test, y_pred))"
      ]
    },
    {
      "cell_type": "code",
      "execution_count": null,
      "metadata": {
        "colab": {
          "base_uri": "https://localhost:8080/"
        },
        "id": "XRQd3DFMeolJ",
        "outputId": "7908f175-022d-4215-e4a8-da4cac12720a"
      },
      "outputs": [
        {
          "name": "stdout",
          "output_type": "stream",
          "text": [
            "{'max_depth': 3, 'n_estimators': 50}\n",
            "0.9583333333333334\n",
            "1.0\n"
          ]
        }
      ],
      "source": [
        "# 使用网格搜索调整随机森林的参数进行模型优化\n",
        "from sklearn.model_selection import GridSearchCV\n",
        "\n",
        "param_grid = {\n",
        "    'n_estimators': [10, 20, 30, 40, 50],\n",
        "    'max_depth': [3, 5, 7, 9]\n",
        "}\n",
        "\n",
        "grid_search = GridSearchCV(RandomForestClassifier(), param_grid, cv=5)\n",
        "grid_search.fit(X_train, y_train)\n",
        "print(grid_search.best_params_)\n",
        "print(grid_search.best_score_)\n",
        "y_pred = grid_search.predict(X_test)\n",
        "print(accuracy_score(y_test, y_pred))"
      ]
    },
    {
      "cell_type": "code",
      "execution_count": null,
      "metadata": {
        "colab": {
          "base_uri": "https://localhost:8080/"
        },
        "id": "e8gHyNFFeolJ",
        "outputId": "a5d917ed-982f-45f5-db2c-2846db437075"
      },
      "outputs": [
        {
          "name": "stdout",
          "output_type": "stream",
          "text": [
            "1.0\n"
          ]
        }
      ],
      "source": [
        "# 使用SVM算法对鸢尾花数据集进行分类\n",
        "from sklearn.svm import SVC\n",
        "\n",
        "svm = SVC()\n",
        "svm.fit(X_train, y_train)\n",
        "y_pred = svm.predict(X_test)\n",
        "print(accuracy_score(y_test, y_pred))"
      ]
    },
    {
      "cell_type": "markdown",
      "metadata": {
        "id": "XAu2qTNSeolK"
      },
      "source": [
        "### 任务一代码运行结论\n",
        "\n",
        "1. 首先调用**决策树分类器**对鸢尾花数据集进行分类，分类准确率为 $ 100\\% $\n",
        "2. 然后使用**随机森林**算法再次进行分类，分类准确率仍为 $ 100\\% $\n",
        "3. 接着使用**网格搜索**调整随机森林的参数，得出最优参数为：最大深度 $3$，决策树个数 $50$；最优得分为 $0.96$。在此参数下，分类准确率仍为 $ 100\\% $\n",
        "4. 最后使用**支持向量机**算法进行对照实验，分类准确率仍为 $ 100\\% $，说明原数据集数据质量较高。"
      ]
    },
    {
      "cell_type": "markdown",
      "metadata": {
        "id": "D7t87IsYeolK"
      },
      "source": [
        "## 任务二：花卉图像识别"
      ]
    },
    {
      "cell_type": "markdown",
      "metadata": {
        "id": "YvRCJsMVeolK"
      },
      "source": [
        ">note：我们选择使用**深度学习框架Tensorflow**设计一个**卷积神经网络CNN**来实现。"
      ]
    },
    {
      "cell_type": "markdown",
      "metadata": {
        "id": "TnO5lYt3eolK"
      },
      "source": [
        "### 第一步：获取图像数据并进行数据预处理\n",
        "\n",
        "数据预处理包括以下：\n",
        "\n",
        "1. **调整图像大小**：确保所有图像都有统一的尺寸。\n",
        "2. **图像像素归一化**：将图像的像素值缩放到 $0$ 到 $1$ 之间，帮助模型更快地收敛。\n",
        "3. **数据增强**：通过随机变换如旋转、缩放等增加模型的泛化能力。"
      ]
    },
    {
      "cell_type": "code",
      "execution_count": null,
      "metadata": {
        "id": "p5slL6cXv5dD"
      },
      "outputs": [],
      "source": [
        "import os\n",
        "import shutil\n",
        "from PIL import Image\n",
        "from concurrent.futures import ThreadPoolExecutor\n",
        "\n",
        "def verify_image(path, filename, bad_folder):\n",
        "    \"\"\"检查图像文件是否损坏并处理损坏的文件。\"\"\"\n",
        "    if not filename.endswith(('.jpg')):  # 检查文件扩展名\n",
        "        return\n",
        "    try:\n",
        "        with Image.open(os.path.join(path, filename)) as img:\n",
        "            img.verify()  # 验证文件是否损坏\n",
        "    except (IOError, SyntaxError) as e:\n",
        "        print('Bad file:', filename)  # 输出损坏的文件名\n",
        "        # 将损坏的文件移动到指定目录\n",
        "        shutil.move(os.path.join(path, filename), os.path.join(bad_folder, filename))\n",
        "\n",
        "def process_directory(directory, bad_folder):\n",
        "    \"\"\"处理单个目录中的所有图像文件。\"\"\"\n",
        "    with ThreadPoolExecutor(max_workers=5) as executor:  # 调整线程数以适应你的系统\n",
        "        for filename in os.listdir(directory):\n",
        "            executor.submit(verify_image, directory, filename, bad_folder)\n",
        "\n",
        "if __name__ == \"__main__\":\n",
        "    directories = ['/content/drive/My Drive/Colab Notebooks/flower/flowers/daisy',\n",
        "                   '/content/drive/My Drive/Colab Notebooks/flower/flowers/dandelion',\n",
        "                   '/content/drive/My Drive/Colab Notebooks/flower/flowers/rose',\n",
        "                   '/content/drive/My Drive/Colab Notebooks/flower/flowers/sunflower',\n",
        "                   '/content/drive/My Drive/Colab Notebooks/flower/flowers/tulip']  # 处理多个目录\n",
        "    bad_folder = '/content/drive/My Drive/Colab Notebooks/flower/bad images'  # 损坏文件存放的目录\n",
        "\n",
        "    for directory in directories:\n",
        "        process_directory(directory, bad_folder)"
      ]
    },
    {
      "cell_type": "markdown",
      "metadata": {
        "id": "Ro9vlTdGv7IT"
      },
      "source": [
        ">note：必须要有上面这一步，因为提供的数据集中会发现有不符合要求的文件以及损坏的文件，可能导致模型训练失败。"
      ]
    },
    {
      "cell_type": "code",
      "execution_count": null,
      "metadata": {
        "colab": {
          "base_uri": "https://localhost:8080/"
        },
        "id": "GcmGOVsbeolK",
        "outputId": "4e2dac40-88a6-49f7-b2d4-1d1e67fa8e04"
      },
      "outputs": [
        {
          "name": "stdout",
          "output_type": "stream",
          "text": [
            "Found 3461 images belonging to 5 classes.\n",
            "Found 861 images belonging to 5 classes.\n"
          ]
        }
      ],
      "source": [
        "from keras.preprocessing.image import ImageDataGenerator\n",
        "import warnings\n",
        "warnings.filterwarnings('ignore')\n",
        "\n",
        "datagen = ImageDataGenerator(\n",
        "    rescale=1.0 / 255, # 归一化\n",
        "    rotation_range=40, # 随机旋转角度范围\n",
        "    width_shift_range=0.2, # 水平偏移的范围（作为总宽度的比例）\n",
        "    height_shift_range=0.2, # 垂直偏移的范围（作为总高度的比例）\n",
        "    shear_range=0.2, # 随机错切变换的角度\n",
        "    zoom_range=0.2, # 随机缩放范围\n",
        "    horizontal_flip=True, # 随机水平翻转\n",
        "    fill_mode='nearest', # 填充像素的方法\n",
        "    validation_split=0.2  # 设置验证集分割比例\n",
        ")\n",
        "\n",
        "validation_datagen = ImageDataGenerator(\n",
        "    rescale=1.0 / 255\n",
        ")\n",
        "\n",
        "train_generator = datagen.flow_from_directory(\n",
        "    '/content/drive/My Drive/Colab Notebooks/flower/flowers',\n",
        "    target_size=(224, 224),\n",
        "    batch_size=64,\n",
        "    class_mode='sparse',\n",
        "    shuffle=True,\n",
        "    subset='training'\n",
        ")\n",
        "\n",
        "validation_generator = datagen.flow_from_directory(\n",
        "    '/content/drive/My Drive/Colab Notebooks/flower/flowers',\n",
        "    target_size=(224, 224),\n",
        "    batch_size=64,\n",
        "    class_mode='sparse',\n",
        "    shuffle=False,\n",
        "    subset='validation'\n",
        ")"
      ]
    },
    {
      "cell_type": "markdown",
      "metadata": {
        "id": "jGNcfINReolL"
      },
      "source": [
        "### 第二步：构建CNN模型"
      ]
    },
    {
      "cell_type": "markdown",
      "metadata": {
        "id": "DlovQ-EveolL"
      },
      "source": [
        ">note：该模型通过**多层卷积**和**池化**学习图像的高级特征，然后通过**全连接层**进行分类。"
      ]
    },
    {
      "cell_type": "code",
      "execution_count": null,
      "metadata": {
        "colab": {
          "base_uri": "https://localhost:8080/"
        },
        "id": "DhtgGuiOeolL",
        "outputId": "db9df304-97ab-4f10-cd97-0d2cce820096"
      },
      "outputs": [
        {
          "name": "stdout",
          "output_type": "stream",
          "text": [
            "Model: \"sequential\"\n",
            "_________________________________________________________________\n",
            " Layer (type)                Output Shape              Param #   \n",
            "=================================================================\n",
            " conv2d (Conv2D)             (None, 222, 222, 32)      896       \n",
            "                                                                 \n",
            " max_pooling2d (MaxPooling2  (None, 111, 111, 32)      0         \n",
            " D)                                                              \n",
            "                                                                 \n",
            " conv2d_1 (Conv2D)           (None, 109, 109, 64)      18496     \n",
            "                                                                 \n",
            " max_pooling2d_1 (MaxPoolin  (None, 54, 54, 64)        0         \n",
            " g2D)                                                            \n",
            "                                                                 \n",
            " conv2d_2 (Conv2D)           (None, 52, 52, 128)       73856     \n",
            "                                                                 \n",
            " flatten (Flatten)           (None, 346112)            0         \n",
            "                                                                 \n",
            " dense (Dense)               (None, 512)               177209856 \n",
            "                                                                 \n",
            " dense_1 (Dense)             (None, 5)                 2565      \n",
            "                                                                 \n",
            "=================================================================\n",
            "Total params: 177305669 (676.37 MB)\n",
            "Trainable params: 177305669 (676.37 MB)\n",
            "Non-trainable params: 0 (0.00 Byte)\n",
            "_________________________________________________________________\n"
          ]
        }
      ],
      "source": [
        "import tensorflow as tf\n",
        "\n",
        "model = tf.keras.Sequential([\n",
        "    tf.keras.layers.Conv2D(32, (3, 3), activation='relu', input_shape=(224, 224, 3)),\n",
        "    tf.keras.layers.MaxPooling2D((2, 2)), # 池化层，将卷积层输出的特征图进行降维\n",
        "    tf.keras.layers.Conv2D(64, (3, 3), activation='relu'),\n",
        "    tf.keras.layers.MaxPooling2D((2, 2)),\n",
        "    tf.keras.layers.Conv2D(128, (3, 3), activation='relu'),\n",
        "    tf.keras.layers.Flatten(), # 扁平化层，将卷积层输出的多维特征图转换为一维，使其可以被后续的全连接层处理\n",
        "    tf.keras.layers.Dense(512, activation='relu'),\n",
        "    tf.keras.layers.Dense(5, activation='softmax') # （最终）输出层，输出5个类别的概率分布\n",
        "])\n",
        "\n",
        "model.compile(optimizer='adam', loss='sparse_categorical_crossentropy', metrics=['accuracy'])\n",
        "\n",
        "model.summary()"
      ]
    },
    {
      "cell_type": "markdown",
      "metadata": {
        "id": "vuB2qpl5eolL"
      },
      "source": [
        "### 第三步：训练CNN模型"
      ]
    },
    {
      "cell_type": "code",
      "execution_count": null,
      "metadata": {
        "colab": {
          "base_uri": "https://localhost:8080/"
        },
        "id": "7_I5w7o8eolL",
        "outputId": "d0b1f24a-a52c-493b-986f-f1169ba79b3b"
      },
      "outputs": [
        {
          "name": "stdout",
          "output_type": "stream",
          "text": [
            "Epoch 1/10\n",
            "55/55 [==============================] - 78s 1s/step - loss: 2.2853 - accuracy: 0.3814 - val_loss: 1.3647 - val_accuracy: 0.4541\n",
            "Epoch 2/10\n",
            "55/55 [==============================] - 59s 1s/step - loss: 1.2326 - accuracy: 0.4594 - val_loss: 1.1765 - val_accuracy: 0.5168\n",
            "Epoch 3/10\n",
            "55/55 [==============================] - 59s 1s/step - loss: 1.1620 - accuracy: 0.5296 - val_loss: 1.0978 - val_accuracy: 0.5656\n",
            "Epoch 4/10\n",
            "55/55 [==============================] - 59s 1s/step - loss: 1.0806 - accuracy: 0.5799 - val_loss: 1.1213 - val_accuracy: 0.5436\n",
            "Epoch 5/10\n",
            "55/55 [==============================] - 59s 1s/step - loss: 1.0503 - accuracy: 0.5810 - val_loss: 1.0124 - val_accuracy: 0.5993\n",
            "Epoch 6/10\n",
            "55/55 [==============================] - 58s 1s/step - loss: 0.9832 - accuracy: 0.5984 - val_loss: 1.0284 - val_accuracy: 0.5958\n",
            "Epoch 7/10\n",
            "55/55 [==============================] - 59s 1s/step - loss: 0.9652 - accuracy: 0.6218 - val_loss: 1.0116 - val_accuracy: 0.5993\n",
            "Epoch 8/10\n",
            "55/55 [==============================] - 59s 1s/step - loss: 0.9340 - accuracy: 0.6299 - val_loss: 0.9771 - val_accuracy: 0.6028\n",
            "Epoch 9/10\n",
            "55/55 [==============================] - 59s 1s/step - loss: 0.9241 - accuracy: 0.6400 - val_loss: 0.9411 - val_accuracy: 0.6225\n",
            "Epoch 10/10\n",
            "55/55 [==============================] - 59s 1s/step - loss: 0.8806 - accuracy: 0.6515 - val_loss: 0.8835 - val_accuracy: 0.6539\n"
          ]
        },
        {
          "data": {
            "text/plain": [
              "<keras.src.callbacks.History at 0x7dab6a4a6620>"
            ]
          },
          "execution_count": 13,
          "metadata": {},
          "output_type": "execute_result"
        }
      ],
      "source": [
        "model.fit(train_generator, epochs=10, validation_data=validation_generator)"
      ]
    },
    {
      "cell_type": "code",
      "execution_count": 14,
      "metadata": {
        "colab": {
          "base_uri": "https://localhost:8080/"
        },
        "id": "v6eS9qNYVGT0",
        "outputId": "c1fa2ff3-1dbc-467e-9990-0ecc9fb62a0f"
      },
      "outputs": [
        {
          "name": "stdout",
          "output_type": "stream",
          "text": [
            "Epoch 1/100\n",
            "55/55 [==============================] - 60s 1s/step - loss: 0.8607 - accuracy: 0.6637 - val_loss: 0.8748 - val_accuracy: 0.6632\n",
            "Epoch 2/100\n",
            "55/55 [==============================] - 59s 1s/step - loss: 0.8335 - accuracy: 0.6721 - val_loss: 0.8480 - val_accuracy: 0.6713\n",
            "Epoch 3/100\n",
            "55/55 [==============================] - 58s 1s/step - loss: 0.8288 - accuracy: 0.6715 - val_loss: 0.9021 - val_accuracy: 0.6597\n",
            "Epoch 4/100\n",
            "55/55 [==============================] - 59s 1s/step - loss: 0.8216 - accuracy: 0.6738 - val_loss: 0.9011 - val_accuracy: 0.6562\n",
            "Epoch 5/100\n",
            "55/55 [==============================] - 58s 1s/step - loss: 0.8582 - accuracy: 0.6640 - val_loss: 0.9111 - val_accuracy: 0.6713\n",
            "Epoch 6/100\n",
            "55/55 [==============================] - 58s 1s/step - loss: 0.8385 - accuracy: 0.6726 - val_loss: 0.8722 - val_accuracy: 0.6713\n",
            "Epoch 7/100\n",
            "55/55 [==============================] - 59s 1s/step - loss: 0.7776 - accuracy: 0.7021 - val_loss: 0.8389 - val_accuracy: 0.6725\n",
            "Epoch 8/100\n",
            "55/55 [==============================] - 58s 1s/step - loss: 0.7793 - accuracy: 0.6903 - val_loss: 0.9213 - val_accuracy: 0.6620\n",
            "Epoch 9/100\n",
            "55/55 [==============================] - 59s 1s/step - loss: 0.7445 - accuracy: 0.7148 - val_loss: 0.8402 - val_accuracy: 0.6934\n",
            "Epoch 10/100\n",
            "55/55 [==============================] - 59s 1s/step - loss: 0.7348 - accuracy: 0.7102 - val_loss: 0.8043 - val_accuracy: 0.6864\n",
            "Epoch 11/100\n",
            "55/55 [==============================] - 58s 1s/step - loss: 0.7153 - accuracy: 0.7186 - val_loss: 0.9115 - val_accuracy: 0.6655\n",
            "Epoch 12/100\n",
            "55/55 [==============================] - 59s 1s/step - loss: 0.7186 - accuracy: 0.7177 - val_loss: 0.8114 - val_accuracy: 0.7073\n",
            "Epoch 13/100\n",
            "55/55 [==============================] - 58s 1s/step - loss: 0.6954 - accuracy: 0.7246 - val_loss: 0.8147 - val_accuracy: 0.7073\n",
            "Epoch 14/100\n",
            "55/55 [==============================] - 59s 1s/step - loss: 0.7468 - accuracy: 0.7018 - val_loss: 0.8046 - val_accuracy: 0.6957\n",
            "Epoch 15/100\n",
            "55/55 [==============================] - 58s 1s/step - loss: 0.6895 - accuracy: 0.7322 - val_loss: 0.7929 - val_accuracy: 0.7085\n",
            "Epoch 16/100\n",
            "55/55 [==============================] - 58s 1s/step - loss: 0.6598 - accuracy: 0.7359 - val_loss: 0.7608 - val_accuracy: 0.7131\n",
            "Epoch 17/100\n",
            "55/55 [==============================] - 58s 1s/step - loss: 0.6664 - accuracy: 0.7400 - val_loss: 0.8345 - val_accuracy: 0.7050\n",
            "Epoch 18/100\n",
            "55/55 [==============================] - 59s 1s/step - loss: 0.6922 - accuracy: 0.7359 - val_loss: 0.7820 - val_accuracy: 0.7305\n",
            "Epoch 19/100\n",
            "55/55 [==============================] - 59s 1s/step - loss: 0.6395 - accuracy: 0.7582 - val_loss: 0.9055 - val_accuracy: 0.7015\n",
            "Epoch 20/100\n",
            "55/55 [==============================] - 59s 1s/step - loss: 0.6777 - accuracy: 0.7463 - val_loss: 0.7610 - val_accuracy: 0.7236\n",
            "Epoch 21/100\n",
            "55/55 [==============================] - 59s 1s/step - loss: 0.6568 - accuracy: 0.7466 - val_loss: 0.7417 - val_accuracy: 0.7317\n",
            "Epoch 22/100\n",
            "55/55 [==============================] - 59s 1s/step - loss: 0.6432 - accuracy: 0.7509 - val_loss: 0.8065 - val_accuracy: 0.7131\n",
            "Epoch 23/100\n",
            "55/55 [==============================] - 58s 1s/step - loss: 0.6417 - accuracy: 0.7507 - val_loss: 0.8204 - val_accuracy: 0.7178\n",
            "Epoch 24/100\n",
            "55/55 [==============================] - 58s 1s/step - loss: 0.6154 - accuracy: 0.7689 - val_loss: 0.7683 - val_accuracy: 0.7166\n",
            "Epoch 25/100\n",
            "55/55 [==============================] - 59s 1s/step - loss: 0.6171 - accuracy: 0.7642 - val_loss: 0.7783 - val_accuracy: 0.7271\n",
            "Epoch 26/100\n",
            "55/55 [==============================] - 59s 1s/step - loss: 0.5969 - accuracy: 0.7668 - val_loss: 0.7665 - val_accuracy: 0.7375\n",
            "Epoch 27/100\n",
            "55/55 [==============================] - 59s 1s/step - loss: 0.5845 - accuracy: 0.7709 - val_loss: 0.7334 - val_accuracy: 0.7398\n",
            "Epoch 28/100\n",
            "55/55 [==============================] - 59s 1s/step - loss: 0.5841 - accuracy: 0.7735 - val_loss: 0.7836 - val_accuracy: 0.7433\n",
            "Epoch 29/100\n",
            "55/55 [==============================] - 58s 1s/step - loss: 0.5925 - accuracy: 0.7749 - val_loss: 0.7526 - val_accuracy: 0.7294\n",
            "Epoch 30/100\n",
            "55/55 [==============================] - 59s 1s/step - loss: 0.5906 - accuracy: 0.7772 - val_loss: 0.7640 - val_accuracy: 0.7410\n",
            "Epoch 31/100\n",
            "55/55 [==============================] - 59s 1s/step - loss: 0.5486 - accuracy: 0.7810 - val_loss: 0.7942 - val_accuracy: 0.7329\n",
            "Epoch 32/100\n",
            "55/55 [==============================] - 59s 1s/step - loss: 0.5402 - accuracy: 0.7949 - val_loss: 0.7442 - val_accuracy: 0.7352\n",
            "Epoch 33/100\n",
            "55/55 [==============================] - 58s 1s/step - loss: 0.5373 - accuracy: 0.7928 - val_loss: 0.7261 - val_accuracy: 0.7317\n",
            "Epoch 34/100\n",
            "55/55 [==============================] - 59s 1s/step - loss: 0.5589 - accuracy: 0.7946 - val_loss: 0.7933 - val_accuracy: 0.7305\n",
            "Epoch 35/100\n",
            "55/55 [==============================] - 59s 1s/step - loss: 0.5796 - accuracy: 0.7827 - val_loss: 0.7116 - val_accuracy: 0.7456\n",
            "Epoch 36/100\n",
            "55/55 [==============================] - 59s 1s/step - loss: 0.5426 - accuracy: 0.7882 - val_loss: 0.7954 - val_accuracy: 0.7329\n",
            "Epoch 37/100\n",
            "55/55 [==============================] - 59s 1s/step - loss: 0.5069 - accuracy: 0.8047 - val_loss: 0.8277 - val_accuracy: 0.7247\n",
            "Epoch 38/100\n",
            "55/55 [==============================] - 59s 1s/step - loss: 0.5681 - accuracy: 0.7819 - val_loss: 0.7791 - val_accuracy: 0.7305\n",
            "Epoch 39/100\n",
            "55/55 [==============================] - 58s 1s/step - loss: 0.5061 - accuracy: 0.8107 - val_loss: 0.8006 - val_accuracy: 0.7538\n",
            "Epoch 40/100\n",
            "55/55 [==============================] - 59s 1s/step - loss: 0.5101 - accuracy: 0.8047 - val_loss: 0.8478 - val_accuracy: 0.7143\n",
            "Epoch 41/100\n",
            "55/55 [==============================] - 58s 1s/step - loss: 0.5040 - accuracy: 0.8090 - val_loss: 0.7820 - val_accuracy: 0.7398\n",
            "Epoch 42/100\n",
            "55/55 [==============================] - 59s 1s/step - loss: 0.5165 - accuracy: 0.8053 - val_loss: 0.7744 - val_accuracy: 0.7515\n",
            "Epoch 43/100\n",
            "55/55 [==============================] - 59s 1s/step - loss: 0.5220 - accuracy: 0.8050 - val_loss: 0.7711 - val_accuracy: 0.7387\n",
            "Epoch 44/100\n",
            "55/55 [==============================] - 59s 1s/step - loss: 0.4967 - accuracy: 0.8073 - val_loss: 0.7731 - val_accuracy: 0.7491\n",
            "Epoch 45/100\n",
            "55/55 [==============================] - 58s 1s/step - loss: 0.4520 - accuracy: 0.8318 - val_loss: 0.8696 - val_accuracy: 0.7561\n",
            "Epoch 46/100\n",
            "55/55 [==============================] - 59s 1s/step - loss: 0.4921 - accuracy: 0.8168 - val_loss: 0.7498 - val_accuracy: 0.7526\n",
            "Epoch 47/100\n",
            "55/55 [==============================] - 59s 1s/step - loss: 0.4608 - accuracy: 0.8292 - val_loss: 0.8218 - val_accuracy: 0.7619\n",
            "Epoch 48/100\n",
            "55/55 [==============================] - 58s 1s/step - loss: 0.4603 - accuracy: 0.8162 - val_loss: 0.8562 - val_accuracy: 0.7340\n",
            "Epoch 49/100\n",
            "55/55 [==============================] - 59s 1s/step - loss: 0.4903 - accuracy: 0.8151 - val_loss: 0.7450 - val_accuracy: 0.7584\n",
            "Epoch 50/100\n",
            "55/55 [==============================] - 59s 1s/step - loss: 0.4523 - accuracy: 0.8281 - val_loss: 0.7007 - val_accuracy: 0.7712\n",
            "Epoch 51/100\n",
            "55/55 [==============================] - 59s 1s/step - loss: 0.4391 - accuracy: 0.8379 - val_loss: 0.7739 - val_accuracy: 0.7596\n",
            "Epoch 52/100\n",
            "55/55 [==============================] - 59s 1s/step - loss: 0.4616 - accuracy: 0.8266 - val_loss: 0.7986 - val_accuracy: 0.7712\n",
            "Epoch 53/100\n",
            "55/55 [==============================] - 59s 1s/step - loss: 0.4447 - accuracy: 0.8318 - val_loss: 0.8593 - val_accuracy: 0.7259\n",
            "Epoch 54/100\n",
            "55/55 [==============================] - 59s 1s/step - loss: 0.4233 - accuracy: 0.8391 - val_loss: 0.7787 - val_accuracy: 0.7619\n",
            "Epoch 55/100\n",
            "55/55 [==============================] - 59s 1s/step - loss: 0.4295 - accuracy: 0.8356 - val_loss: 0.8063 - val_accuracy: 0.7573\n",
            "Epoch 56/100\n",
            "55/55 [==============================] - 59s 1s/step - loss: 0.4323 - accuracy: 0.8342 - val_loss: 0.7538 - val_accuracy: 0.7793\n",
            "Epoch 57/100\n",
            "55/55 [==============================] - 59s 1s/step - loss: 0.4317 - accuracy: 0.8408 - val_loss: 0.7525 - val_accuracy: 0.7619\n",
            "Epoch 58/100\n",
            "55/55 [==============================] - 59s 1s/step - loss: 0.4205 - accuracy: 0.8399 - val_loss: 0.8226 - val_accuracy: 0.7375\n",
            "Epoch 59/100\n",
            "55/55 [==============================] - 59s 1s/step - loss: 0.4095 - accuracy: 0.8437 - val_loss: 0.7614 - val_accuracy: 0.7735\n",
            "Epoch 60/100\n",
            "55/55 [==============================] - 58s 1s/step - loss: 0.3979 - accuracy: 0.8518 - val_loss: 0.7098 - val_accuracy: 0.7875\n",
            "Epoch 61/100\n",
            "55/55 [==============================] - 58s 1s/step - loss: 0.3926 - accuracy: 0.8526 - val_loss: 0.7929 - val_accuracy: 0.7747\n",
            "Epoch 62/100\n",
            "55/55 [==============================] - 59s 1s/step - loss: 0.3906 - accuracy: 0.8518 - val_loss: 0.8183 - val_accuracy: 0.7375\n",
            "Epoch 63/100\n",
            "55/55 [==============================] - 59s 1s/step - loss: 0.3610 - accuracy: 0.8607 - val_loss: 0.8087 - val_accuracy: 0.7666\n",
            "Epoch 64/100\n",
            "55/55 [==============================] - 59s 1s/step - loss: 0.3814 - accuracy: 0.8587 - val_loss: 0.7447 - val_accuracy: 0.7584\n",
            "Epoch 65/100\n",
            "55/55 [==============================] - 59s 1s/step - loss: 0.4169 - accuracy: 0.8472 - val_loss: 0.8067 - val_accuracy: 0.7503\n",
            "Epoch 66/100\n",
            "55/55 [==============================] - 59s 1s/step - loss: 0.3703 - accuracy: 0.8584 - val_loss: 0.7540 - val_accuracy: 0.7642\n",
            "Epoch 67/100\n",
            "55/55 [==============================] - 59s 1s/step - loss: 0.3641 - accuracy: 0.8593 - val_loss: 0.8108 - val_accuracy: 0.7689\n",
            "Epoch 68/100\n",
            "55/55 [==============================] - 59s 1s/step - loss: 0.3807 - accuracy: 0.8587 - val_loss: 0.8114 - val_accuracy: 0.7700\n",
            "Epoch 69/100\n",
            "55/55 [==============================] - 58s 1s/step - loss: 0.3635 - accuracy: 0.8628 - val_loss: 0.8087 - val_accuracy: 0.7631\n",
            "Epoch 70/100\n",
            "55/55 [==============================] - 58s 1s/step - loss: 0.3739 - accuracy: 0.8573 - val_loss: 0.6803 - val_accuracy: 0.7875\n",
            "Epoch 71/100\n",
            "55/55 [==============================] - 59s 1s/step - loss: 0.3405 - accuracy: 0.8737 - val_loss: 0.7683 - val_accuracy: 0.7642\n",
            "Epoch 72/100\n",
            "55/55 [==============================] - 58s 1s/step - loss: 0.3749 - accuracy: 0.8604 - val_loss: 0.7826 - val_accuracy: 0.7666\n",
            "Epoch 73/100\n",
            "55/55 [==============================] - 59s 1s/step - loss: 0.3358 - accuracy: 0.8758 - val_loss: 0.8826 - val_accuracy: 0.7526\n",
            "Epoch 74/100\n",
            "55/55 [==============================] - 59s 1s/step - loss: 0.3503 - accuracy: 0.8691 - val_loss: 0.7583 - val_accuracy: 0.7747\n",
            "Epoch 75/100\n",
            "55/55 [==============================] - 59s 1s/step - loss: 0.3497 - accuracy: 0.8607 - val_loss: 0.7821 - val_accuracy: 0.7607\n",
            "Epoch 76/100\n",
            "55/55 [==============================] - 60s 1s/step - loss: 0.3300 - accuracy: 0.8706 - val_loss: 0.8113 - val_accuracy: 0.7584\n",
            "Epoch 77/100\n",
            "55/55 [==============================] - 62s 1s/step - loss: 0.3624 - accuracy: 0.8665 - val_loss: 0.7968 - val_accuracy: 0.7573\n",
            "Epoch 78/100\n",
            "55/55 [==============================] - 62s 1s/step - loss: 0.3565 - accuracy: 0.8645 - val_loss: 0.8095 - val_accuracy: 0.7828\n",
            "Epoch 79/100\n",
            "55/55 [==============================] - 63s 1s/step - loss: 0.3586 - accuracy: 0.8677 - val_loss: 0.8132 - val_accuracy: 0.7503\n",
            "Epoch 80/100\n",
            "55/55 [==============================] - 61s 1s/step - loss: 0.3747 - accuracy: 0.8636 - val_loss: 0.8066 - val_accuracy: 0.7526\n",
            "Epoch 81/100\n",
            "55/55 [==============================] - 59s 1s/step - loss: 0.3134 - accuracy: 0.8786 - val_loss: 0.7961 - val_accuracy: 0.7747\n",
            "Epoch 82/100\n",
            "55/55 [==============================] - 59s 1s/step - loss: 0.3102 - accuracy: 0.8859 - val_loss: 0.7919 - val_accuracy: 0.7782\n",
            "Epoch 83/100\n",
            "55/55 [==============================] - 59s 1s/step - loss: 0.2876 - accuracy: 0.8977 - val_loss: 0.7571 - val_accuracy: 0.7816\n",
            "Epoch 84/100\n",
            "55/55 [==============================] - 59s 1s/step - loss: 0.3314 - accuracy: 0.8758 - val_loss: 0.7060 - val_accuracy: 0.7828\n",
            "Epoch 85/100\n",
            "55/55 [==============================] - 59s 1s/step - loss: 0.3135 - accuracy: 0.8844 - val_loss: 0.9583 - val_accuracy: 0.7677\n",
            "Epoch 86/100\n",
            "55/55 [==============================] - 59s 1s/step - loss: 0.3558 - accuracy: 0.8749 - val_loss: 0.8195 - val_accuracy: 0.7596\n",
            "Epoch 87/100\n",
            "55/55 [==============================] - 59s 1s/step - loss: 0.3232 - accuracy: 0.8812 - val_loss: 0.8026 - val_accuracy: 0.7654\n",
            "Epoch 88/100\n",
            "55/55 [==============================] - 59s 1s/step - loss: 0.3095 - accuracy: 0.8824 - val_loss: 0.9510 - val_accuracy: 0.7456\n",
            "Epoch 89/100\n",
            "55/55 [==============================] - 59s 1s/step - loss: 0.3048 - accuracy: 0.8824 - val_loss: 1.0709 - val_accuracy: 0.7619\n",
            "Epoch 90/100\n",
            "55/55 [==============================] - 59s 1s/step - loss: 0.3460 - accuracy: 0.8760 - val_loss: 0.8073 - val_accuracy: 0.7851\n",
            "Epoch 91/100\n",
            "55/55 [==============================] - 59s 1s/step - loss: 0.3037 - accuracy: 0.8870 - val_loss: 0.7624 - val_accuracy: 0.7828\n",
            "Epoch 92/100\n",
            "55/55 [==============================] - 59s 1s/step - loss: 0.3085 - accuracy: 0.8836 - val_loss: 0.8027 - val_accuracy: 0.7758\n",
            "Epoch 93/100\n",
            "55/55 [==============================] - 59s 1s/step - loss: 0.2807 - accuracy: 0.8980 - val_loss: 0.8738 - val_accuracy: 0.7689\n",
            "Epoch 94/100\n",
            "55/55 [==============================] - 59s 1s/step - loss: 0.3349 - accuracy: 0.8870 - val_loss: 0.7821 - val_accuracy: 0.7770\n",
            "Epoch 95/100\n",
            "55/55 [==============================] - 59s 1s/step - loss: 0.3121 - accuracy: 0.8890 - val_loss: 0.8449 - val_accuracy: 0.7619\n",
            "Epoch 96/100\n",
            "55/55 [==============================] - 59s 1s/step - loss: 0.2992 - accuracy: 0.8919 - val_loss: 0.8741 - val_accuracy: 0.7758\n",
            "Epoch 97/100\n",
            "55/55 [==============================] - 59s 1s/step - loss: 0.2777 - accuracy: 0.8986 - val_loss: 0.8898 - val_accuracy: 0.7631\n",
            "Epoch 98/100\n",
            "55/55 [==============================] - 59s 1s/step - loss: 0.2780 - accuracy: 0.8977 - val_loss: 0.8241 - val_accuracy: 0.7666\n",
            "Epoch 99/100\n",
            "55/55 [==============================] - 59s 1s/step - loss: 0.3177 - accuracy: 0.8905 - val_loss: 0.7889 - val_accuracy: 0.7712\n",
            "Epoch 100/100\n",
            "55/55 [==============================] - 60s 1s/step - loss: 0.2701 - accuracy: 0.8966 - val_loss: 0.8256 - val_accuracy: 0.7816\n"
          ]
        },
        {
          "data": {
            "text/plain": [
              "<keras.src.callbacks.History at 0x7dab681e90c0>"
            ]
          },
          "execution_count": 14,
          "metadata": {},
          "output_type": "execute_result"
        }
      ],
      "source": [
        "model.fit(train_generator, epochs=100, validation_data=validation_generator)"
      ]
    },
    {
      "cell_type": "markdown",
      "metadata": {
        "id": "_4XQBCvItA9p"
      },
      "source": [
        ">note：在经过110轮训练后，训练集准确率高达 $90\\%$，验证集准确率高达 $78\\%$，已经初步达到训练效果，综合考虑认为模型训练成功。"
      ]
    },
    {
      "cell_type": "markdown",
      "metadata": {
        "id": "l7hU19VstjaY"
      },
      "source": [
        "### 第四步：模型评估"
      ]
    },
    {
      "cell_type": "markdown",
      "metadata": {
        "id": "c1mltR70eolM"
      },
      "source": [
        ">note：评估指标我们选择更全面的精确率，召回率以及F1分数。"
      ]
    },
    {
      "cell_type": "code",
      "execution_count": 15,
      "metadata": {
        "colab": {
          "base_uri": "https://localhost:8080/"
        },
        "id": "Q-06SFPGeolM",
        "outputId": "b63f968e-9a2e-4221-8fb3-a0b4c4ab3c26"
      },
      "outputs": [
        {
          "name": "stdout",
          "output_type": "stream",
          "text": [
            "14/14 [==============================] - 12s 840ms/step\n",
            "              precision    recall  f1-score   support\n",
            "\n",
            "       daisy       0.87      0.79      0.83       153\n",
            "   dandelion       0.86      0.78      0.82       210\n",
            "        rose       0.66      0.75      0.70       156\n",
            "   sunflower       0.80      0.88      0.84       146\n",
            "       tulip       0.70      0.69      0.69       196\n",
            "\n",
            "    accuracy                           0.77       861\n",
            "   macro avg       0.78      0.78      0.78       861\n",
            "weighted avg       0.78      0.77      0.77       861\n",
            "\n"
          ]
        }
      ],
      "source": [
        "# 准确率，精确率，召回率以及F1分数\n",
        "from sklearn.metrics import classification_report\n",
        "\n",
        "validation_generator.reset()\n",
        "y_pred = model.predict(validation_generator)\n",
        "y_pred = [list(x).index(max(x)) for x in y_pred]\n",
        "y_true = validation_generator.classes\n",
        "target_names = ['daisy', 'dandelion', 'rose', 'sunflower', 'tulip']\n",
        "print(classification_report(y_true, y_pred, target_names=target_names))"
      ]
    },
    {
      "cell_type": "markdown",
      "metadata": {
        "id": "-MfzEl7BeolM"
      },
      "source": [
        "通过运行代码，我们发现训练的模型非常好，各个评估指标均很出色，特别是平均f1-score高达 $0.77$"
      ]
    }
  ],
  "metadata": {
    "accelerator": "GPU",
    "colab": {
      "gpuType": "L4",
      "machine_shape": "hm",
      "provenance": [],
      "toc_visible": true
    },
    "kernelspec": {
      "display_name": "Python 3",
      "name": "python3"
    },
    "language_info": {
      "codemirror_mode": {
        "name": "ipython",
        "version": 3
      },
      "file_extension": ".py",
      "mimetype": "text/x-python",
      "name": "python",
      "nbconvert_exporter": "python",
      "pygments_lexer": "ipython3",
      "version": "3.11.5"
    }
  },
  "nbformat": 4,
  "nbformat_minor": 0
}
